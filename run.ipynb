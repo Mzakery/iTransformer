{
 "cells": [
  {
   "cell_type": "code",
   "execution_count": null,
   "metadata": {},
   "outputs": [],
   "source": [
    "%pip install reformer_pytorch"
   ]
  },
  {
   "cell_type": "code",
   "execution_count": 81,
   "metadata": {},
   "outputs": [
    {
     "data": {
      "text/html": [
       "<div>\n",
       "<style scoped>\n",
       "    .dataframe tbody tr th:only-of-type {\n",
       "        vertical-align: middle;\n",
       "    }\n",
       "\n",
       "    .dataframe tbody tr th {\n",
       "        vertical-align: top;\n",
       "    }\n",
       "\n",
       "    .dataframe thead th {\n",
       "        text-align: right;\n",
       "    }\n",
       "</style>\n",
       "<table border=\"1\" class=\"dataframe\">\n",
       "  <thead>\n",
       "    <tr style=\"text-align: right;\">\n",
       "      <th></th>\n",
       "      <th>date</th>\n",
       "      <th>Open</th>\n",
       "      <th>High</th>\n",
       "      <th>Low</th>\n",
       "      <th>Final</th>\n",
       "      <th>Volume</th>\n",
       "      <th>Close</th>\n",
       "    </tr>\n",
       "  </thead>\n",
       "  <tbody>\n",
       "    <tr>\n",
       "      <th>0</th>\n",
       "      <td>2001-03-25</td>\n",
       "      <td>26000</td>\n",
       "      <td>26000</td>\n",
       "      <td>24885</td>\n",
       "      <td>24885</td>\n",
       "      <td>4520</td>\n",
       "      <td>24885</td>\n",
       "    </tr>\n",
       "    <tr>\n",
       "      <th>1</th>\n",
       "      <td>2001-03-26</td>\n",
       "      <td>24885</td>\n",
       "      <td>24885</td>\n",
       "      <td>24885</td>\n",
       "      <td>24885</td>\n",
       "      <td>45</td>\n",
       "      <td>24885</td>\n",
       "    </tr>\n",
       "    <tr>\n",
       "      <th>2</th>\n",
       "      <td>2001-04-08</td>\n",
       "      <td>25000</td>\n",
       "      <td>25000</td>\n",
       "      <td>25000</td>\n",
       "      <td>25000</td>\n",
       "      <td>2000</td>\n",
       "      <td>25000</td>\n",
       "    </tr>\n",
       "    <tr>\n",
       "      <th>3</th>\n",
       "      <td>2001-04-10</td>\n",
       "      <td>25003</td>\n",
       "      <td>25003</td>\n",
       "      <td>25003</td>\n",
       "      <td>25003</td>\n",
       "      <td>70</td>\n",
       "      <td>25003</td>\n",
       "    </tr>\n",
       "    <tr>\n",
       "      <th>4</th>\n",
       "      <td>2001-04-15</td>\n",
       "      <td>25010</td>\n",
       "      <td>25010</td>\n",
       "      <td>25010</td>\n",
       "      <td>25010</td>\n",
       "      <td>120</td>\n",
       "      <td>25010</td>\n",
       "    </tr>\n",
       "  </tbody>\n",
       "</table>\n",
       "</div>"
      ],
      "text/plain": [
       "         date   Open   High    Low  Final  Volume  Close\n",
       "0  2001-03-25  26000  26000  24885  24885    4520  24885\n",
       "1  2001-03-26  24885  24885  24885  24885      45  24885\n",
       "2  2001-04-08  25000  25000  25000  25000    2000  25000\n",
       "3  2001-04-10  25003  25003  25003  25003      70  25003\n",
       "4  2001-04-15  25010  25010  25010  25010     120  25010"
      ]
     },
     "execution_count": 81,
     "metadata": {},
     "output_type": "execute_result"
    }
   ],
   "source": [
    "#دیتا رو فرا میخونیم برای اینکه تقسیمش کنیم بین دو تا فولدر!\n",
    "\n",
    "# فرض میکنیم اسمش دیتاست.سی اس وی  واون رو بعد از چک کردن به دو فولدر کپی میکنیم!\n",
    "\n",
    "import pandas as pd\n",
    "\n",
    "df = pd.read_csv('input/train/data.csv')\n",
    "\n",
    "df.head()"
   ]
  },
  {
   "cell_type": "code",
   "execution_count": 11,
   "metadata": {},
   "outputs": [
    {
     "name": "stdout",
     "output_type": "stream",
     "text": [
      "Now We Have Two Data set, Same as each other , But one of them going to be used during pred\n"
     ]
    }
   ],
   "source": [
    "df.to_csv('input/train/data.csv', index=False)\n",
    "df.to_csv('input/pred/data.csv', index=False)\n",
    "\n",
    "print(\"Now We Have Two Data set, Same as each other , But one of them going to be used during pred\")"
   ]
  },
  {
   "cell_type": "code",
   "execution_count": null,
   "metadata": {},
   "outputs": [],
   "source": [
    "# اول فرض میکنیم شما دیروز مدلتون رو تمرین دادید و آماده هست و در درایو یا جای دیگه ای سیو شده\n",
    "# بهتره دوباره ۱۸ ساعت رو تلف نکنیم برای ترین دوباره ، شما اینطور فکر نمیکنید ؟:) ینی چی؟ ببینیم \n",
    "# ما هنگام ترین دادن مدل یک پیغام مشاهده کردیم . این شکلی بود :\n",
    "# Args Object Saved to input/args.json\n",
    "# همچنین یکی دیگه :\n",
    "#      test_iTransformer_custom_MS_ft5_sl1_ll1_pl1_dm1_nh1_el1_dl1_df1_fctimeF_ebTrue_dttest_projection_0\n",
    "# اولی ینی آرگز در واقع ست آپ مدله. و دومی چکپوینت یا دیکشنری وضعیت در واقع همه ی اون ۱۸ ساعتی که راجبش حرف زدیمو توی خودش داره\n",
    "# ما اول اینا رو پیدا میکنیم\n",
    "#  بعد اگر بخوایم میتونیم با یه دیتای جدید هم دوباره مدل رو تمرین بدیم ولی نه از اول بلکه ادامه ی کارش. این هم در هزینه و هم انرژی و هم\n",
    "# حفظ عقلانیت بهمون کمک میکنه\n",
    "# It tipically save it in input folder:\n",
    "# همونطور که بالا بصورت قلمبه و سلمبه نوشتم : معمولا توی اینپوت سیو میشه.\n",
    "# و اگر بیشتر از یه فایل اونجا هست بهتره که اون ساعت و تاریخی\n",
    "# رو بردارید که زیر همون تمرین ثبت شدتون نوشته شده\n",
    "#   همچنین اسم فولدری که مدل توش سیو شده یا همون چک پوینت توش سیو شده، به عنوان مدل توی تابع شناخته میشه\n",
    "\n",
    "\n",
    "#تابع لود آرگز ادرس فایل آرگز دات جیسون رو ازتون میگیره و همون آرگز رو بهتون تحویل میده که موقع تمرین مدل ساختید\n",
    "# دقت کنید که میتونید که میتونید خود فایل رو هم فراخونی کنید اگر بخواید:\n",
    "# اینجا روشش رو بصورت کامنت آوردم\n",
    "\n",
    "#from experiments.pre_train import load_args\n",
    "#\n",
    "# path_to_saved_args = '****************'# به جای این ستاره ها اسم همون فایل رو بزارید مثلا مال من این بود: input/args_20240611_174533.json\n",
    "#loaded_arg = load_args(path_to_saved_args)\n",
    "#print(f\"Args object loaded from {path_to_saved_args}\")\n",
    "#print(loaded_arg)"
   ]
  },
  {
   "cell_type": "code",
   "execution_count": null,
   "metadata": {},
   "outputs": [],
   "source": [
    "# اگر بالا رو ران کنید میتونید این کارا رو انجام بدین\n",
    "\n",
    "#loaded_arg.test_size = None\n",
    "#loaded_arg.max_use_of_row = 'No Lim'\n",
    "#loaded_arg.pred_data_path = 'data.csv'\n",
    "#loaded_arg.is_training = 0      #beacuse it is predicting!:)\n",
    "#print(loaded_arg)"
   ]
  },
  {
   "cell_type": "code",
   "execution_count": 4,
   "metadata": {},
   "outputs": [],
   "source": [
    "# این اسم فولدریه که توش چک پوینت هست\n",
    "# زیر همون تمرینی که میدید به مدل نوشته شده\n",
    "\n",
    "checkpoints_folder_name = 'test_iTransformer_custom_MS_ft5_sl1_ll1_pl1_dm1_nh1_el1_dl1_df1_fctimeF_ebTrue_dttest_projection_0'"
   ]
  },
  {
   "cell_type": "code",
   "execution_count": 5,
   "metadata": {},
   "outputs": [],
   "source": [
    "# به جای این ستاره ها اسم همون فایل رو بزارید مثلا مال من این بود: input/args_20240611_182910.json\n",
    "\n",
    "path_to_saved_args = '****************'\n",
    "path_to_saved_args = 'input/args_20240611_182910.json'"
   ]
  },
  {
   "cell_type": "code",
   "execution_count": 7,
   "metadata": {},
   "outputs": [],
   "source": [
    "from experiments.after_train import predict"
   ]
  },
  {
   "cell_type": "code",
   "execution_count": 8,
   "metadata": {},
   "outputs": [
    {
     "name": "stdout",
     "output_type": "stream",
     "text": [
      "Use CPU\n",
      "Fail To Save The Args. Continue ..\n",
      "pred 1\n",
      "pred 1\n",
      "The Results of Prediction for The Next 2 Days Are Now Stored in \n",
      "                results/Prediction Results/prediction_20240611_183102.csv\n"
     ]
    },
    {
     "data": {
      "text/plain": [
       "True"
      ]
     },
     "execution_count": 8,
     "metadata": {},
     "output_type": "execute_result"
    }
   ],
   "source": [
    "predict(args= path_to_saved_args, model= checkpoints_folder_name , days_to_predict = 2, retrain= False)"
   ]
  },
  {
   "cell_type": "code",
   "execution_count": 9,
   "metadata": {},
   "outputs": [
    {
     "data": {
      "text/html": [
       "<div>\n",
       "<style scoped>\n",
       "    .dataframe tbody tr th:only-of-type {\n",
       "        vertical-align: middle;\n",
       "    }\n",
       "\n",
       "    .dataframe tbody tr th {\n",
       "        vertical-align: top;\n",
       "    }\n",
       "\n",
       "    .dataframe thead th {\n",
       "        text-align: right;\n",
       "    }\n",
       "</style>\n",
       "<table border=\"1\" class=\"dataframe\">\n",
       "  <thead>\n",
       "    <tr style=\"text-align: right;\">\n",
       "      <th></th>\n",
       "      <th>date</th>\n",
       "      <th>Close</th>\n",
       "    </tr>\n",
       "  </thead>\n",
       "  <tbody>\n",
       "    <tr>\n",
       "      <th>0</th>\n",
       "      <td>2023-11-08</td>\n",
       "      <td>14300</td>\n",
       "    </tr>\n",
       "    <tr>\n",
       "      <th>1</th>\n",
       "      <td>2023-11-09</td>\n",
       "      <td>14346</td>\n",
       "    </tr>\n",
       "    <tr>\n",
       "      <th>2</th>\n",
       "      <td>2023-11-10</td>\n",
       "      <td>14293</td>\n",
       "    </tr>\n",
       "  </tbody>\n",
       "</table>\n",
       "</div>"
      ],
      "text/plain": [
       "         date  Close\n",
       "0  2023-11-08  14300\n",
       "1  2023-11-09  14346\n",
       "2  2023-11-10  14293"
      ]
     },
     "execution_count": 9,
     "metadata": {},
     "output_type": "execute_result"
    }
   ],
   "source": [
    "import pandas as pd\n",
    "\n",
    "pd.read_csv('results/Prediction Results/prediction_20240611_183102.csv')#این همین آدرسیه که این بالا نوشته"
   ]
  },
  {
   "cell_type": "code",
   "execution_count": null,
   "metadata": {},
   "outputs": [],
   "source": [
    "# OR OR ##"
   ]
  },
  {
   "cell_type": "code",
   "execution_count": null,
   "metadata": {},
   "outputs": [],
   "source": [
    "#  اگر  اینا رو ندارید و میخواید ترین بدید مدل رو و بعدش پیش بینی کنید بفرمایید"
   ]
  },
  {
   "cell_type": "code",
   "execution_count": null,
   "metadata": {},
   "outputs": [],
   "source": [
    "# OR IF YOU HAVE NOT YOUR ARGS ! HERE LETS TRAIN FROM SCRATCH ! #"
   ]
  },
  {
   "cell_type": "code",
   "execution_count": 1,
   "metadata": {},
   "outputs": [],
   "source": [
    "# Define the arg object\n",
    "from utils.tools import dotdict\n",
    "\n",
    "arg = dotdict()  # $$ این همون آرگز معروفه که ز ازش افتاده بنده خدا\n",
    "\n",
    "arg.root_path = 'input/train'\n",
    "arg.data_path = 'data.csv'\n",
    "arg.pred_root_path = 'input/pred'\n",
    "arg.pred_data_path = 'data.csv'"
   ]
  },
  {
   "cell_type": "code",
   "execution_count": 2,
   "metadata": {},
   "outputs": [
    {
     "name": "stdout",
     "output_type": "stream",
     "text": [
      "This is The enhanced version of Orginal code, Written in 2024\n",
      "Args in experiment:\n",
      "{'root_path': 'input/train', 'data_path': 'data.csv', 'pred_root_path': 'input/pred', 'pred_data_path': 'data.csv', 'scale': True, 'test_size': 0.2, 'kind_of_scaler': 'MinMax', 'name_of_col_with_date': 'date', 'kind_of_optim': 'default', 'criter': 'default', 'do_visual': False, 'max_use_of_row': 'No Lim', 'is_training': 1, 'model_id': 'test', 'model': 'iTransformer', 'data': 'custom', 'features': 'MS', 'target': 'Close', 'freq': 'b', 'checkpoints': './checkpoints/', 'seq_len': 10, 'label_len': 1, 'pred_len': 5, 'enc_in': 6, 'dec_in': 6, 'c_out': 1, 'd_model': 16, 'n_heads': 2, 'e_layers': 1, 'd_layers': 1, 'd_ff': 32, 'moving_avg': 25, 'factor': 1, 'distil': True, 'dropout': 0.1, 'embed': 'timeF', 'activation': 'ReLU', 'num_workers': 1, 'itr': 1, 'train_epochs': 2, 'batch_size': 16, 'patience': 2, 'learning_rate': 0.01, 'des': 'test', 'loss': 'MSE', 'lradj': 'type1', 'use_amp': False, 'use_gpu': False, 'gpu': 0, 'use_multi_gpu': False, 'devices': '0,1,2,3', 'exp_name': 'MTSF', 'channel_independence': False, 'inverse': False, 'class_strategy': 'projection', 'efficient_training': False, 'use_norm': True, 'partial_start_index': 0}\n"
     ]
    }
   ],
   "source": [
    "import torch\n",
    "from experiments.exp_long_term_forecasting import Exp_Long_Term_Forecast\n",
    "from experiments.exp_long_term_forecasting_partial import Exp_Long_Term_Forecast_Partial\n",
    "import random\n",
    "import numpy as np\n",
    "\n",
    "# Setting the seed\n",
    "fix_seed = 2023\n",
    "random.seed(fix_seed)\n",
    "torch.manual_seed(fix_seed)\n",
    "np.random.seed(fix_seed)\n",
    "\n",
    "\n",
    "# NEW OPTIONS : #\n",
    "arg.scale = True\n",
    "arg.test_size = 0.2\n",
    "arg.kind_of_scaler = 'MinMax'\n",
    "arg.name_of_col_with_date = 'date'\n",
    "arg.kind_of_optim = 'default'\n",
    "arg.criter = 'default'\n",
    "arg.do_visual = False\n",
    "arg.max_use_of_row = 'No Lim'#It also can be 'All Except a Week' or 'All Except 3 Days'\n",
    "#        #      #\n",
    "\n",
    "arg.is_training = 1\n",
    "arg.model_id = 'test'\n",
    "arg.model = 'iTransformer'\n",
    "arg.data = 'custom'\n",
    "arg.features = 'MS'\n",
    "arg.target = 'Close'\n",
    "arg.freq = 'b'\n",
    "arg.checkpoints = './checkpoints/'\n",
    "arg.seq_len = 1*10*1\n",
    "arg.label_len = 1*1\n",
    "arg.pred_len = 1*5\n",
    "arg.enc_in = 6\n",
    "arg.dec_in = 6\n",
    "arg.c_out = 1\n",
    "arg.d_model = 16\n",
    "arg.n_heads = 2\n",
    "arg.e_layers = 1\n",
    "arg.d_layers = 1\n",
    "arg.d_ff = 32\n",
    "arg.moving_avg = 25\n",
    "arg.factor = 1\n",
    "arg.distil = True\n",
    "arg.dropout = 0.1\n",
    "arg.embed = 'timeF'\n",
    "arg.activation = 'ReLU'\n",
    "arg.num_workers = 1\n",
    "arg.itr = 1\n",
    "arg.train_epochs = 2\n",
    "arg.batch_size = 16\n",
    "arg.patience = 2\n",
    "arg.learning_rate = 0.01\n",
    "arg.des = 'test'\n",
    "arg.loss = 'MSE'\n",
    "arg.lradj = 'type1'\n",
    "arg.use_amp = False\n",
    "arg.use_gpu = True if torch.cuda.is_available() else False\n",
    "arg.gpu = 0\n",
    "arg.use_multi_gpu = False\n",
    "arg.devices = '0,1,2,3'\n",
    "arg.exp_name = 'MTSF'\n",
    "arg.channel_independence = False\n",
    "arg.inverse = False\n",
    "arg.class_strategy = 'projection'\n",
    "arg.efficient_training = False\n",
    "arg.use_norm = True\n",
    "arg.partial_start_index = 0\n",
    "\n",
    "print('Args in experiment:')\n",
    "print(arg)\n",
    "\n",
    "if arg.exp_name == 'partial_train':\n",
    "    Exp = Exp_Long_Term_Forecast_Partial\n",
    "else:\n",
    "    Exp = Exp_Long_Term_Forecast\n"
   ]
  },
  {
   "cell_type": "code",
   "execution_count": 3,
   "metadata": {},
   "outputs": [
    {
     "name": "stdout",
     "output_type": "stream",
     "text": [
      "Use CPU\n",
      "Args Object Saved to input/args_20240612_174238.json\n",
      ">>>>>>>start training : test_iTransformer_custom_MS_ft10_sl1_ll5_pl16_dm2_nh1_el1_dl32_df1_fctimeF_ebTrue_dttest_projection_0>>>>>>>>>>>>>>>>>>>>>>>>>>\n",
      "train 2938\n",
      "test 734\n",
      "\titers: 100, epoch: 1 | loss: 0.0016658\n",
      "\tspeed: 0.0232s/iter; left time: 6.1825s\n",
      "Epoch: 1 cost time: 3.736255407333374\n"
     ]
    },
    {
     "name": "stderr",
     "output_type": "stream",
     "text": [
      "[W NNPACK.cpp:64] Could not initialize NNPACK! Reason: Unsupported hardware.\n"
     ]
    },
    {
     "name": "stdout",
     "output_type": "stream",
     "text": [
      "Epoch: 1, Steps: 183 | Train Loss: 0.0011505 Test Loss: 0.0021919\n",
      "Validation loss decreased (inf --> 0.002192).  Saving model ...\n",
      "Updating learning rate to 0.01\n",
      "\titers: 100, epoch: 2 | loss: 0.0001739\n",
      "\tspeed: 0.0812s/iter; left time: 6.8230s\n",
      "Epoch: 2 cost time: 3.6699671745300293\n",
      "Epoch: 2, Steps: 183 | Train Loss: 0.0009970 Test Loss: 0.0024113\n",
      "EarlyStopping counter: 1 out of 2\n",
      "Updating learning rate to 0.005\n",
      "\n",
      "\n",
      "Train mse:0.00017389326239936054,Train mae:0.008685546927154064\n",
      "Train rmse:0.013186859898269176,Train mape:0.05063861608505249\n",
      "\n",
      "\n",
      ">>>>>>>testing : test_iTransformer_custom_MS_ft10_sl1_ll5_pl16_dm2_nh1_el1_dl32_df1_fctimeF_ebTrue_dttest_projection_0<<<<<<<<<<<<<<<<<<<<<<<<<<<<<<<<<\n",
      "test 734\n",
      "test shape: (734, 1, 5, 1) (734, 1, 5, 1)\n",
      "test shape: (734, 5, 1) (734, 5, 1)\n",
      "Test mse:0.0021918683778494596,Test mae:0.020194217562675476\n",
      "Test rmse:0.046817392110824585,Test mape:0.06163434684276581\n"
     ]
    }
   ],
   "source": [
    "if arg.is_training:\n",
    "    for ii in range(arg.itr):\n",
    "        # setting record of experiments\n",
    "        setting = '{}_{}_{}_{}_ft{}_sl{}_ll{}_pl{}_dm{}_nh{}_el{}_dl{}_df{}_fc{}_eb{}_dt{}_{}_{}'.format(\n",
    "                arg.model_id,\n",
    "                arg.model,\n",
    "                arg.data,\n",
    "                arg.features,\n",
    "                arg.seq_len,\n",
    "                arg.label_len,\n",
    "                arg.pred_len,\n",
    "                arg.d_model,\n",
    "                arg.n_heads,\n",
    "                arg.e_layers,\n",
    "                arg.d_layers,\n",
    "                arg.d_ff,\n",
    "                arg.factor,\n",
    "                arg.embed,\n",
    "                arg.distil,\n",
    "                arg.des,\n",
    "                arg.class_strategy, ii)\n",
    "        \n",
    "        exp = Exp(arg)  # set experiments\n",
    "        print('>>>>>>>start training : {}>>>>>>>>>>>>>>>>>>>>>>>>>>'.format(setting))\n",
    "        exp.train(setting)\n",
    "        \n",
    "        print('>>>>>>>testing : {}<<<<<<<<<<<<<<<<<<<<<<<<<<<<<<<<<'.format(setting))\n",
    "        \n",
    "        train_losses = exp.train_losses##### --->>> Use These To Plot the Loss Values\n",
    "        test_losses = exp.test_losses####   --->>> Use These To Plot the Loss Values\n",
    "        \n",
    "        exp.test(setting)\n",
    "        \n",
    "        if arg.do_predict:\n",
    "            print('>>>>>>>predicting : {}<<<<<<<<<<<<<<<<<<<<<<<<<<<<<<<<<'.format(setting))\n",
    "            exp.predict(setting, True)\n",
    "        \n",
    "        torch.cuda.empty_cache()\n",
    "else:\n",
    "    ii = 0\n",
    "    setting = '{}_{}_{}_{}_ft{}_sl{}_ll{}_pl{}_dm{}_nh{}_el{}_dl{}_df{}_fc{}_eb{}_dt{}_{}_{}'.format(\n",
    "            arg.model_id,\n",
    "            arg.model,\n",
    "            arg.data,\n",
    "            arg.features,\n",
    "            arg.seq_len,\n",
    "            arg.label_len,\n",
    "            arg.pred_len,\n",
    "            arg.d_model,\n",
    "            arg.n_heads,\n",
    "            arg.e_layers,\n",
    "            arg.d_layers,\n",
    "            arg.d_ff,\n",
    "            arg.factor,\n",
    "            arg.embed,\n",
    "            arg.distil,\n",
    "            arg.des,\n",
    "            arg.class_strategy, ii)\n",
    "        \n",
    "    exp = Exp(arg)  # set experiments\n",
    "    print('>>>>>>>testing : {}<<<<<<<<<<<<<<<<<<<<<<<<<<<<<<<<<'.format(setting))\n",
    "    exp.test(setting, test=1)\n",
    "    torch.cuda.empty_cache()"
   ]
  },
  {
   "cell_type": "code",
   "execution_count": 4,
   "metadata": {},
   "outputs": [],
   "source": [
    "# مستقیم بریم برای پیشبینی چون همه چیز در روند ترین مشخص شده\n",
    "\n",
    "from experiments.after_train import predict"
   ]
  },
  {
   "cell_type": "code",
   "execution_count": 12,
   "metadata": {},
   "outputs": [
    {
     "name": "stdout",
     "output_type": "stream",
     "text": [
      "pred 1\n",
      "The Results of Prediction for The Next 5 Days Are Now Stored in \n",
      "                results/Prediction Results/prediction_20240612_174510.csv\n"
     ]
    },
    {
     "data": {
      "text/plain": [
       "True"
      ]
     },
     "execution_count": 12,
     "metadata": {},
     "output_type": "execute_result"
    }
   ],
   "source": [
    "predict(args= arg, model=exp)# این آرگ که این جا نوشتم یکم بالا تر با علامت دلار چلوش کامنت گذاشتم"
   ]
  },
  {
   "cell_type": "code",
   "execution_count": 6,
   "metadata": {},
   "outputs": [],
   "source": [
    "predicted_path = 'results/Prediction Results/prediction_20240612_174316.csv'"
   ]
  },
  {
   "cell_type": "code",
   "execution_count": 10,
   "metadata": {},
   "outputs": [
    {
     "data": {
      "text/html": [
       "<div>\n",
       "<style scoped>\n",
       "    .dataframe tbody tr th:only-of-type {\n",
       "        vertical-align: middle;\n",
       "    }\n",
       "\n",
       "    .dataframe tbody tr th {\n",
       "        vertical-align: top;\n",
       "    }\n",
       "\n",
       "    .dataframe thead th {\n",
       "        text-align: right;\n",
       "    }\n",
       "</style>\n",
       "<table border=\"1\" class=\"dataframe\">\n",
       "  <thead>\n",
       "    <tr style=\"text-align: right;\">\n",
       "      <th></th>\n",
       "      <th>date</th>\n",
       "      <th>Close</th>\n",
       "    </tr>\n",
       "  </thead>\n",
       "  <tbody>\n",
       "    <tr>\n",
       "      <th>0</th>\n",
       "      <td>2023-11-09 00:00:00</td>\n",
       "      <td>14391.660156</td>\n",
       "    </tr>\n",
       "    <tr>\n",
       "      <th>1</th>\n",
       "      <td>2023-11-10 00:00:00</td>\n",
       "      <td>14307.972656</td>\n",
       "    </tr>\n",
       "    <tr>\n",
       "      <th>2</th>\n",
       "      <td>2023-11-13 00:00:00</td>\n",
       "      <td>14398.887695</td>\n",
       "    </tr>\n",
       "    <tr>\n",
       "      <th>3</th>\n",
       "      <td>2023-11-14 00:00:00</td>\n",
       "      <td>14444.146484</td>\n",
       "    </tr>\n",
       "    <tr>\n",
       "      <th>4</th>\n",
       "      <td>2023-11-15 00:00:00</td>\n",
       "      <td>14383.035156</td>\n",
       "    </tr>\n",
       "  </tbody>\n",
       "</table>\n",
       "</div>"
      ],
      "text/plain": [
       "                  date         Close\n",
       "0  2023-11-09 00:00:00  14391.660156\n",
       "1  2023-11-10 00:00:00  14307.972656\n",
       "2  2023-11-13 00:00:00  14398.887695\n",
       "3  2023-11-14 00:00:00  14444.146484\n",
       "4  2023-11-15 00:00:00  14383.035156"
      ]
     },
     "execution_count": 10,
     "metadata": {},
     "output_type": "execute_result"
    }
   ],
   "source": [
    "import pandas as pd\n",
    "\n",
    "pd.read_csv(predicted_path)\n"
   ]
  },
  {
   "cell_type": "markdown",
   "metadata": {},
   "source": [
    "یاد تونه بالا گفتم میتونید آرگز رو خودتون لود کنید\n",
    "\n",
    "بدرد این میخوره مثلا\n",
    "\n",
    "فکر کنید شما با حالت ام اس مدل رو ترین دادید . ینی بالایی\n",
    "\n",
    "حالا من تقلب میکنم و به آرگ میگم تو ام خالی هستی و بعد جای ارگز در مدل رو با این عوض میکنم \n",
    "\n",
    "و میبینیم که گول میخوره و همه ی پیش بینی هاشو برامون رو میکنه\n",
    "\n",
    "این فقط در حالت بین ام اس و اس ممکنه"
   ]
  },
  {
   "cell_type": "code",
   "execution_count": 13,
   "metadata": {},
   "outputs": [
    {
     "data": {
      "text/html": [
       "<div>\n",
       "<style scoped>\n",
       "    .dataframe tbody tr th:only-of-type {\n",
       "        vertical-align: middle;\n",
       "    }\n",
       "\n",
       "    .dataframe tbody tr th {\n",
       "        vertical-align: top;\n",
       "    }\n",
       "\n",
       "    .dataframe thead th {\n",
       "        text-align: right;\n",
       "    }\n",
       "</style>\n",
       "<table border=\"1\" class=\"dataframe\">\n",
       "  <thead>\n",
       "    <tr style=\"text-align: right;\">\n",
       "      <th></th>\n",
       "      <th>date</th>\n",
       "      <th>Close</th>\n",
       "    </tr>\n",
       "  </thead>\n",
       "  <tbody>\n",
       "    <tr>\n",
       "      <th>0</th>\n",
       "      <td>2023-11-09 00:00:00</td>\n",
       "      <td>14391.660156</td>\n",
       "    </tr>\n",
       "    <tr>\n",
       "      <th>1</th>\n",
       "      <td>2023-11-10 00:00:00</td>\n",
       "      <td>14307.972656</td>\n",
       "    </tr>\n",
       "    <tr>\n",
       "      <th>2</th>\n",
       "      <td>2023-11-13 00:00:00</td>\n",
       "      <td>14398.887695</td>\n",
       "    </tr>\n",
       "    <tr>\n",
       "      <th>3</th>\n",
       "      <td>2023-11-14 00:00:00</td>\n",
       "      <td>14444.146484</td>\n",
       "    </tr>\n",
       "    <tr>\n",
       "      <th>4</th>\n",
       "      <td>2023-11-15 00:00:00</td>\n",
       "      <td>14383.035156</td>\n",
       "    </tr>\n",
       "  </tbody>\n",
       "</table>\n",
       "</div>"
      ],
      "text/plain": [
       "                  date         Close\n",
       "0  2023-11-09 00:00:00  14391.660156\n",
       "1  2023-11-10 00:00:00  14307.972656\n",
       "2  2023-11-13 00:00:00  14398.887695\n",
       "3  2023-11-14 00:00:00  14444.146484\n",
       "4  2023-11-15 00:00:00  14383.035156"
      ]
     },
     "execution_count": 13,
     "metadata": {},
     "output_type": "execute_result"
    }
   ],
   "source": [
    "pd.read_csv('results/Prediction Results/prediction_20240612_174510.csv')"
   ]
  },
  {
   "cell_type": "code",
   "execution_count": 15,
   "metadata": {},
   "outputs": [
    {
     "data": {
      "text/plain": [
       "[0.0021918686, 0.0024113324]"
      ]
     },
     "execution_count": 15,
     "metadata": {},
     "output_type": "execute_result"
    }
   ],
   "source": [
    "exp.test_losses"
   ]
  }
 ],
 "metadata": {
  "kernelspec": {
   "display_name": "Python 3",
   "language": "python",
   "name": "python3"
  },
  "language_info": {
   "codemirror_mode": {
    "name": "ipython",
    "version": 3
   },
   "file_extension": ".py",
   "mimetype": "text/x-python",
   "name": "python",
   "nbconvert_exporter": "python",
   "pygments_lexer": "ipython3",
   "version": "3.11.9"
  }
 },
 "nbformat": 4,
 "nbformat_minor": 2
}
